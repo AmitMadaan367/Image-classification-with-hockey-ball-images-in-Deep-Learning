{
 "cells": [
  {
   "cell_type": "code",
   "execution_count": 62,
   "metadata": {},
   "outputs": [],
   "source": [
    "import os\n",
    "import pandas as pd\n",
    "import numpy as np\n",
    "import seaborn as sns\n",
    "import matplotlib.pyplot as plt\n",
    "from matplotlib.image import imread\n",
    "# Technically not necessary in newest versions of jupyter\n",
    "%matplotlib inline"
   ]
  },
  {
   "cell_type": "markdown",
   "metadata": {},
   "source": [
    "**TRIPLE CHECK WHERE YOUR FILES ARE DOWNLOADED AND UNZIPPED. PLEASE REVIEW VIDEO BEFORE POSTING TO QA FORUMS.**"
   ]
  },
  {
   "cell_type": "code",
   "execution_count": 63,
   "metadata": {},
   "outputs": [
    {
     "data": {
      "text/plain": [
       "'D:\\\\hockye_ball classification'"
      ]
     },
     "execution_count": 63,
     "metadata": {},
     "output_type": "execute_result"
    }
   ],
   "source": [
    "os.getcwd()"
   ]
  },
  {
   "cell_type": "code",
   "execution_count": 64,
   "metadata": {},
   "outputs": [],
   "source": [
    "# my_data_dir = 'C:\\\\Users\\\\Marcial\\\\Pierian-Data-Courses\\\\cell_images'\n",
    "my_data_dir = os.getcwd()+'//HB_images'"
   ]
  },
  {
   "cell_type": "code",
   "execution_count": 65,
   "metadata": {},
   "outputs": [
    {
     "data": {
      "text/plain": [
       "['prediction', 'results', 'test', 'train']"
      ]
     },
     "execution_count": 65,
     "metadata": {},
     "output_type": "execute_result"
    }
   ],
   "source": [
    "# CONFIRM THAT THIS REPORTS BACK 'test', and 'train'\n",
    "os.listdir(my_data_dir) "
   ]
  },
  {
   "cell_type": "code",
   "execution_count": 66,
   "metadata": {},
   "outputs": [],
   "source": [
    "test_path = my_data_dir+'\\\\test\\\\'\n",
    "train_path = my_data_dir+'\\\\train\\\\'\n",
    "result_path = my_data_dir+'\\\\results\\\\'\n",
    "prediction = my_data_dir+'\\\\prediction\\\\'"
   ]
  },
  {
   "cell_type": "code",
   "execution_count": 67,
   "metadata": {},
   "outputs": [
    {
     "data": {
      "text/plain": [
       "['balls', 'hockey']"
      ]
     },
     "execution_count": 67,
     "metadata": {},
     "output_type": "execute_result"
    }
   ],
   "source": [
    "os.listdir(train_path)"
   ]
  },
  {
   "cell_type": "code",
   "execution_count": 68,
   "metadata": {},
   "outputs": [
    {
     "data": {
      "text/plain": [
       "['balls', 'hockey']"
      ]
     },
     "execution_count": 68,
     "metadata": {},
     "output_type": "execute_result"
    }
   ],
   "source": [
    "os.listdir(train_path)"
   ]
  },
  {
   "cell_type": "code",
   "execution_count": 69,
   "metadata": {},
   "outputs": [
    {
     "data": {
      "text/plain": [
       "'ball_1.jpg'"
      ]
     },
     "execution_count": 69,
     "metadata": {},
     "output_type": "execute_result"
    }
   ],
   "source": [
    "os.listdir(train_path+'\\\\balls')[0]"
   ]
  },
  {
   "cell_type": "code",
   "execution_count": 70,
   "metadata": {},
   "outputs": [],
   "source": [
    "para_cell = train_path+'\\\\balls'+'\\\\ball_1.jpg'"
   ]
  },
  {
   "cell_type": "code",
   "execution_count": 71,
   "metadata": {},
   "outputs": [],
   "source": [
    "para_img= imread(para_cell)"
   ]
  },
  {
   "cell_type": "code",
   "execution_count": 72,
   "metadata": {},
   "outputs": [
    {
     "data": {
      "text/plain": [
       "<matplotlib.image.AxesImage at 0x16d377a7b20>"
      ]
     },
     "execution_count": 72,
     "metadata": {},
     "output_type": "execute_result"
    },
    {
     "data": {
      "image/png": "[encoded data removed]",
      "text/plain": [
       "<Figure size 432x288 with 1 Axes>"
      ]
     },
     "metadata": {
      "needs_background": "light"
     },
     "output_type": "display_data"
    }
   ],
   "source": [
    "plt.imshow(para_img)"
   ]
  },
  {
   "cell_type": "code",
   "execution_count": 73,
   "metadata": {},
   "outputs": [
    {
     "data": {
      "text/plain": [
       "(224, 224, 3)"
      ]
     },
     "execution_count": 73,
     "metadata": {},
     "output_type": "execute_result"
    }
   ],
   "source": [
    "para_img.shape"
   ]
  },
  {
   "cell_type": "markdown",
   "metadata": {},
   "source": [
    "**Let's check how many images there are.**"
   ]
  },
  {
   "cell_type": "code",
   "execution_count": 74,
   "metadata": {},
   "outputs": [
    {
     "data": {
      "text/plain": [
       "29"
      ]
     },
     "execution_count": 74,
     "metadata": {},
     "output_type": "execute_result"
    }
   ],
   "source": [
    "len(os.listdir(train_path+'\\\\balls'))"
   ]
  },
  {
   "cell_type": "code",
   "execution_count": 75,
   "metadata": {},
   "outputs": [
    {
     "data": {
      "text/plain": [
       "31"
      ]
     },
     "execution_count": 75,
     "metadata": {},
     "output_type": "execute_result"
    }
   ],
   "source": [
    "len(os.listdir(train_path+'\\\\hockey'))"
   ]
  },
  {
   "cell_type": "markdown",
   "metadata": {},
   "source": [
    "**Let's find out the average dimensions of these images.**"
   ]
  },
  {
   "cell_type": "code",
   "execution_count": 76,
   "metadata": {},
   "outputs": [],
   "source": [
    "# unifected_cell.shape"
   ]
  },
  {
   "cell_type": "code",
   "execution_count": 77,
   "metadata": {},
   "outputs": [],
   "source": [
    "# para_img.shape"
   ]
  },
  {
   "cell_type": "code",
   "execution_count": 78,
   "metadata": {},
   "outputs": [],
   "source": [
    "# Other options: https://stackoverflow.com/questions/1507084/how-to-check-dimensions-of-all-images-in-a-directory-using-python\n",
    "dim1 = []\n",
    "dim2 = []\n",
    "for image_filename in os.listdir(test_path+'\\\\balls'):\n",
    "    \n",
    "    img = imread(test_path+'\\\\balls'+'\\\\'+image_filename)\n",
    "    d1,d2,colors = img.shape\n",
    "    dim1.append(d1)\n",
    "    dim2.append(d2)"
   ]
  },
  {
   "cell_type": "code",
   "execution_count": 79,
   "metadata": {},
   "outputs": [
    {
     "data": {
      "text/plain": [
       "<seaborn.axisgrid.JointGrid at 0x16d378ccbe0>"
      ]
     },
     "execution_count": 79,
     "metadata": {},
     "output_type": "execute_result"
    },
    {
     "data": {
      "image/png": "[encoded data removed]",
      "text/plain": [
       "<Figure size 432x432 with 3 Axes>"
      ]
     },
     "metadata": {
      "needs_background": "light"
     },
     "output_type": "display_data"
    }
   ],
   "source": [
    "sns.jointplot(dim1,dim2)"
   ]
  },
  {
   "cell_type": "code",
   "execution_count": 80,
   "metadata": {},
   "outputs": [
    {
     "data": {
      "text/plain": [
       "223.9655172413793"
      ]
     },
     "execution_count": 80,
     "metadata": {},
     "output_type": "execute_result"
    }
   ],
   "source": [
    "np.mean(dim1)"
   ]
  },
  {
   "cell_type": "code",
   "execution_count": 81,
   "metadata": {},
   "outputs": [
    {
     "data": {
      "text/plain": [
       "227.41379310344828"
      ]
     },
     "execution_count": 81,
     "metadata": {},
     "output_type": "execute_result"
    }
   ],
   "source": [
    "np.mean(dim2)"
   ]
  },
  {
   "cell_type": "code",
   "execution_count": 83,
   "metadata": {},
   "outputs": [],
   "source": [
    "image_shape = (223,227,3)"
   ]
  },
  {
   "cell_type": "markdown",
   "metadata": {},
   "source": [
    "## Preparing the Data for the model\n",
    "\n",
    "There is too much data for us to read all at once in memory. We can use some built in functions in Keras to automatically process the data, generate a flow of batches from a directory, and also manipulate the images.\n",
    "\n",
    "### Image Manipulation\n",
    "\n",
    "Its usually a good idea to manipulate the images with rotation, resizing, and scaling so the model becomes more robust to different images that our data set doesn't have. We can use the **ImageDataGenerator** to do this automatically for us. Check out the documentation for a full list of all the parameters you can use here!"
   ]
  },
  {
   "cell_type": "code",
   "execution_count": 84,
   "metadata": {},
   "outputs": [],
   "source": [
    "from tensorflow.keras.preprocessing.image import ImageDataGenerator"
   ]
  },
  {
   "cell_type": "code",
   "execution_count": 85,
   "metadata": {},
   "outputs": [
    {
     "name": "stdout",
     "output_type": "stream",
     "text": [
      "Help on class ImageDataGenerator in module tensorflow.python.keras.preprocessing.image:\n",
      "\n",
      "class ImageDataGenerator(keras_preprocessing.image.image_data_generator.ImageDataGenerator)\n",
      " |  ImageDataGenerator(featurewise_center=False, samplewise_center=False, featurewise_std_normalization=False, samplewise_std_normalization=False, zca_whitening=False, zca_epsilon=1e-06, rotation_range=0, width_shift_range=0.0, height_shift_range=0.0, brightness_range=None, shear_range=0.0, zoom_range=0.0, channel_shift_range=0.0, fill_mode='nearest', cval=0.0, horizontal_flip=False, vertical_flip=False, rescale=None, preprocessing_function=None, data_format=None, validation_split=0.0, dtype=None)\n",
      " |  \n",
      " |  Generate batches of tensor image data with real-time data augmentation.\n",
      " |  \n",
      " |   The data will be looped over (in batches).\n",
      " |  \n",
      " |  Arguments:\n",
      " |      featurewise_center: Boolean.\n",
      " |          Set input mean to 0 over the dataset, feature-wise.\n",
      " |      samplewise_center: Boolean. Set each sample mean to 0.\n",
      " |      featurewise_std_normalization: Boolean.\n",
      " |          Divide inputs by std of the dataset, feature-wise.\n",
      " |      samplewise_std_normalization: Boolean. Divide each input by its std.\n",
      " |      zca_epsilon: epsilon for ZCA whitening. Default is 1e-6.\n",
      " |      zca_whitening: Boolean. Apply ZCA whitening.\n",
      " |      rotation_range: Int. Degree range for random rotations.\n",
      " |      width_shift_range: Float, 1-D array-like or int\n",
      " |          - float: fraction of total width, if < 1, or pixels if >= 1.\n",
      " |          - 1-D array-like: random elements from the array.\n",
      " |          - int: integer number of pixels from interval\n",
      " |              `(-width_shift_range, +width_shift_range)`\n",
      " |          - With `width_shift_range=2` possible values\n",
      " |              are integers `[-1, 0, +1]`,\n",
      " |              same as with `width_shift_range=[-1, 0, +1]`,\n",
      " |              while with `width_shift_range=1.0` possible values are floats\n",
      " |              in the interval [-1.0, +1.0).\n",
      " |      height_shift_range: Float, 1-D array-like or int\n",
      " |          - float: fraction of total height, if < 1, or pixels if >= 1.\n",
      " |          - 1-D array-like: random elements from the array.\n",
      " |          - int: integer number of pixels from interval\n",
      " |              `(-height_shift_range, +height_shift_range)`\n",
      " |          - With `height_shift_range=2` possible values\n",
      " |              are integers `[-1, 0, +1]`,\n",
      " |              same as with `height_shift_range=[-1, 0, +1]`,\n",
      " |              while with `height_shift_range=1.0` possible values are floats\n",
      " |              in the interval [-1.0, +1.0).\n",
      " |      brightness_range: Tuple or list of two floats. Range for picking\n",
      " |          a brightness shift value from.\n",
      " |      shear_range: Float. Shear Intensity\n",
      " |          (Shear angle in counter-clockwise direction in degrees)\n",
      " |      zoom_range: Float or [lower, upper]. Range for random zoom.\n",
      " |          If a float, `[lower, upper] = [1-zoom_range, 1+zoom_range]`.\n",
      " |      channel_shift_range: Float. Range for random channel shifts.\n",
      " |      fill_mode: One of {\"constant\", \"nearest\", \"reflect\" or \"wrap\"}.\n",
      " |          Default is 'nearest'.\n",
      " |          Points outside the boundaries of the input are filled\n",
      " |          according to the given mode:\n",
      " |          - 'constant': kkkkkkkk|abcd|kkkkkkkk (cval=k)\n",
      " |          - 'nearest':  aaaaaaaa|abcd|dddddddd\n",
      " |          - 'reflect':  abcddcba|abcd|dcbaabcd\n",
      " |          - 'wrap':  abcdabcd|abcd|abcdabcd\n",
      " |      cval: Float or Int.\n",
      " |          Value used for points outside the boundaries\n",
      " |          when `fill_mode = \"constant\"`.\n",
      " |      horizontal_flip: Boolean. Randomly flip inputs horizontally.\n",
      " |      vertical_flip: Boolean. Randomly flip inputs vertically.\n",
      " |      rescale: rescaling factor. Defaults to None.\n",
      " |          If None or 0, no rescaling is applied,\n",
      " |          otherwise we multiply the data by the value provided\n",
      " |          (after applying all other transformations).\n",
      " |      preprocessing_function: function that will be applied on each input.\n",
      " |          The function will run after the image is resized and augmented.\n",
      " |          The function should take one argument:\n",
      " |          one image (Numpy tensor with rank 3),\n",
      " |          and should output a Numpy tensor with the same shape.\n",
      " |      data_format: Image data format,\n",
      " |          either \"channels_first\" or \"channels_last\".\n",
      " |          \"channels_last\" mode means that the images should have shape\n",
      " |          `(samples, height, width, channels)`,\n",
      " |          \"channels_first\" mode means that the images should have shape\n",
      " |          `(samples, channels, height, width)`.\n",
      " |          It defaults to the `image_data_format` value found in your\n",
      " |          Keras config file at `~/.keras/keras.json`.\n",
      " |          If you never set it, then it will be \"channels_last\".\n",
      " |      validation_split: Float. Fraction of images reserved for validation\n",
      " |          (strictly between 0 and 1).\n",
      " |      dtype: Dtype to use for the generated arrays.\n",
      " |  \n",
      " |  Examples:\n",
      " |  \n",
      " |  Example of using `.flow(x, y)`:\n",
      " |  \n",
      " |  ```python\n",
      " |  (x_train, y_train), (x_test, y_test) = cifar10.load_data()\n",
      " |  y_train = np_utils.to_categorical(y_train, num_classes)\n",
      " |  y_test = np_utils.to_categorical(y_test, num_classes)\n",
      " |  datagen = ImageDataGenerator(\n",
      " |      featurewise_center=True,\n",
      " |      featurewise_std_normalization=True,\n",
      " |      rotation_range=20,\n",
      " |      width_shift_range=0.2,\n",
      " |      height_shift_range=0.2,\n",
      " |      horizontal_flip=True)\n",
      " |  # compute quantities required for featurewise normalization\n",
      " |  # (std, mean, and principal components if ZCA whitening is applied)\n",
      " |  datagen.fit(x_train)\n",
      " |  # fits the model on batches with real-time data augmentation:\n",
      " |  model.fit(datagen.flow(x_train, y_train, batch_size=32),\n",
      " |            steps_per_epoch=len(x_train) / 32, epochs=epochs)\n",
      " |  # here's a more \"manual\" example\n",
      " |  for e in range(epochs):\n",
      " |      print('Epoch', e)\n",
      " |      batches = 0\n",
      " |      for x_batch, y_batch in datagen.flow(x_train, y_train, batch_size=32):\n",
      " |          model.fit(x_batch, y_batch)\n",
      " |          batches += 1\n",
      " |          if batches >= len(x_train) / 32:\n",
      " |              # we need to break the loop by hand because\n",
      " |              # the generator loops indefinitely\n",
      " |              break\n",
      " |  ```\n",
      " |  \n",
      " |  Example of using `.flow_from_directory(directory)`:\n",
      " |  \n",
      " |  ```python\n",
      " |  train_datagen = ImageDataGenerator(\n",
      " |          rescale=1./255,\n",
      " |          shear_range=0.2,\n",
      " |          zoom_range=0.2,\n",
      " |          horizontal_flip=True)\n",
      " |  test_datagen = ImageDataGenerator(rescale=1./255)\n",
      " |  train_generator = train_datagen.flow_from_directory(\n",
      " |          'data/train',\n",
      " |          target_size=(150, 150),\n",
      " |          batch_size=32,\n",
      " |          class_mode='binary')\n",
      " |  validation_generator = test_datagen.flow_from_directory(\n",
      " |          'data/validation',\n",
      " |          target_size=(150, 150),\n",
      " |          batch_size=32,\n",
      " |          class_mode='binary')\n",
      " |  model.fit(\n",
      " |          train_generator,\n",
      " |          steps_per_epoch=2000,\n",
      " |          epochs=50,\n",
      " |          validation_data=validation_generator,\n",
      " |          validation_steps=800)\n",
      " |  ```\n",
      " |  \n",
      " |  Example of transforming images and masks together.\n",
      " |  \n",
      " |  ```python\n",
      " |  # we create two instances with the same arguments\n",
      " |  data_gen_args = dict(featurewise_center=True,\n",
      " |                       featurewise_std_normalization=True,\n",
      " |                       rotation_range=90,\n",
      " |                       width_shift_range=0.1,\n",
      " |                       height_shift_range=0.1,\n",
      " |                       zoom_range=0.2)\n",
      " |  image_datagen = ImageDataGenerator(**data_gen_args)\n",
      " |  mask_datagen = ImageDataGenerator(**data_gen_args)\n",
      " |  # Provide the same seed and keyword arguments to the fit and flow methods\n",
      " |  seed = 1\n",
      " |  image_datagen.fit(images, augment=True, seed=seed)\n",
      " |  mask_datagen.fit(masks, augment=True, seed=seed)\n",
      " |  image_generator = image_datagen.flow_from_directory(\n",
      " |      'data/images',\n",
      " |      class_mode=None,\n",
      " |      seed=seed)\n",
      " |  mask_generator = mask_datagen.flow_from_directory(\n",
      " |      'data/masks',\n",
      " |      class_mode=None,\n",
      " |      seed=seed)\n",
      " |  # combine generators into one which yields image and masks\n",
      " |  train_generator = zip(image_generator, mask_generator)\n",
      " |  model.fit_generator(\n",
      " |      train_generator,\n",
      " |      steps_per_epoch=2000,\n",
      " |      epochs=50)\n",
      " |  ```\n",
      " |  \n",
      " |  Method resolution order:\n",
      " |      ImageDataGenerator\n",
      " |      keras_preprocessing.image.image_data_generator.ImageDataGenerator\n",
      " |      builtins.object\n",
      " |  \n",
      " |  Methods defined here:\n",
      " |  \n",
      " |  __init__(self, featurewise_center=False, samplewise_center=False, featurewise_std_normalization=False, samplewise_std_normalization=False, zca_whitening=False, zca_epsilon=1e-06, rotation_range=0, width_shift_range=0.0, height_shift_range=0.0, brightness_range=None, shear_range=0.0, zoom_range=0.0, channel_shift_range=0.0, fill_mode='nearest', cval=0.0, horizontal_flip=False, vertical_flip=False, rescale=None, preprocessing_function=None, data_format=None, validation_split=0.0, dtype=None)\n",
      " |      Initialize self.  See help(type(self)) for accurate signature.\n",
      " |  \n",
      " |  flow(self, x, y=None, batch_size=32, shuffle=True, sample_weight=None, seed=None, save_to_dir=None, save_prefix='', save_format='png', subset=None)\n",
      " |      Takes data & label arrays, generates batches of augmented data.\n",
      " |      \n",
      " |      Arguments:\n",
      " |          x: Input data. Numpy array of rank 4 or a tuple. If tuple, the first\n",
      " |            element should contain the images and the second element another numpy\n",
      " |            array or a list of numpy arrays that gets passed to the output without\n",
      " |            any modifications. Can be used to feed the model miscellaneous data\n",
      " |            along with the images. In case of grayscale data, the channels axis of\n",
      " |            the image array should have value 1, in case of RGB data, it should\n",
      " |            have value 3, and in case of RGBA data, it should have value 4.\n",
      " |          y: Labels.\n",
      " |          batch_size: Int (default: 32).\n",
      " |          shuffle: Boolean (default: True).\n",
      " |          sample_weight: Sample weights.\n",
      " |          seed: Int (default: None).\n",
      " |          save_to_dir: None or str (default: None). This allows you to optionally\n",
      " |            specify a directory to which to save the augmented pictures being\n",
      " |            generated (useful for visualizing what you are doing).\n",
      " |          save_prefix: Str (default: `''`). Prefix to use for filenames of saved\n",
      " |            pictures (only relevant if `save_to_dir` is set).\n",
      " |          save_format: one of \"png\", \"jpeg\"\n",
      " |              (only relevant if `save_to_dir` is set). Default: \"png\".\n",
      " |          subset: Subset of data (`\"training\"` or `\"validation\"`) if\n",
      " |            `validation_split` is set in `ImageDataGenerator`.\n",
      " |      \n",
      " |      Returns:\n",
      " |          An `Iterator` yielding tuples of `(x, y)`\n",
      " |              where `x` is a numpy array of image data\n",
      " |              (in the case of a single image input) or a list\n",
      " |              of numpy arrays (in the case with\n",
      " |              additional inputs) and `y` is a numpy array\n",
      " |              of corresponding labels. If 'sample_weight' is not None,\n",
      " |              the yielded tuples are of the form `(x, y, sample_weight)`.\n",
      " |              If `y` is None, only the numpy array `x` is returned.\n",
      " |  \n",
      " |  flow_from_dataframe(self, dataframe, directory=None, x_col='filename', y_col='class', weight_col=None, target_size=(256, 256), color_mode='rgb', classes=None, class_mode='categorical', batch_size=32, shuffle=True, seed=None, save_to_dir=None, save_prefix='', save_format='png', subset=None, interpolation='nearest', validate_filenames=True, **kwargs)\n",
      " |      Takes the dataframe and the path to a directory + generates batches.\n",
      " |      \n",
      " |       The generated batches contain augmented/normalized data.\n",
      " |      \n",
      " |      **A simple tutorial can be found **[here](\n",
      " |                                  http://bit.ly/keras_flow_from_dataframe).\n",
      " |      \n",
      " |      Arguments:\n",
      " |          dataframe: Pandas dataframe containing the filepaths relative to\n",
      " |            `directory` (or absolute paths if `directory` is None) of the images\n",
      " |            in a string column. It should include other column/s\n",
      " |              depending on the `class_mode`: - if `class_mode` is `\"categorical\"`\n",
      " |                (default value) it must include the `y_col` column with the\n",
      " |                class/es of each image. Values in column can be string/list/tuple\n",
      " |                if a single class or list/tuple if multiple classes. - if\n",
      " |                `class_mode` is `\"binary\"` or `\"sparse\"` it must include the given\n",
      " |                `y_col` column with class values as strings. - if `class_mode` is\n",
      " |                `\"raw\"` or `\"multi_output\"` it should contain the columns\n",
      " |                specified in `y_col`. - if `class_mode` is `\"input\"` or `None` no\n",
      " |                extra column is needed.\n",
      " |          directory: string, path to the directory to read images from. If `None`,\n",
      " |            data in `x_col` column should be absolute paths.\n",
      " |          x_col: string, column in `dataframe` that contains the filenames (or\n",
      " |            absolute paths if `directory` is `None`).\n",
      " |          y_col: string or list, column/s in `dataframe` that has the target data.\n",
      " |          weight_col: string, column in `dataframe` that contains the sample\n",
      " |              weights. Default: `None`.\n",
      " |          target_size: tuple of integers `(height, width)`, default: `(256, 256)`.\n",
      " |            The dimensions to which all images found will be resized.\n",
      " |          color_mode: one of \"grayscale\", \"rgb\", \"rgba\". Default: \"rgb\". Whether\n",
      " |            the images will be converted to have 1 or 3 color channels.\n",
      " |          classes: optional list of classes (e.g. `['dogs', 'cats']`). Default is\n",
      " |            None. If not provided, the list of classes will be automatically\n",
      " |            inferred from the `y_col`, which will map to the label indices, will\n",
      " |            be alphanumeric). The dictionary containing the mapping from class\n",
      " |            names to class indices can be obtained via the attribute\n",
      " |            `class_indices`.\n",
      " |          class_mode: one of \"binary\", \"categorical\", \"input\", \"multi_output\",\n",
      " |              \"raw\", sparse\" or None. Default: \"categorical\".\n",
      " |              Mode for yielding the targets:\n",
      " |              - `\"binary\"`: 1D numpy array of binary labels,\n",
      " |              - `\"categorical\"`: 2D numpy array of one-hot encoded labels.\n",
      " |                Supports multi-label output.\n",
      " |              - `\"input\"`: images identical to input images (mainly used to work\n",
      " |                with autoencoders),\n",
      " |              - `\"multi_output\"`: list with the values of the different columns,\n",
      " |              - `\"raw\"`: numpy array of values in `y_col` column(s),\n",
      " |              - `\"sparse\"`: 1D numpy array of integer labels, - `None`, no targets\n",
      " |                are returned (the generator will only yield batches of image data,\n",
      " |                which is useful to use in `model.predict_generator()`).\n",
      " |          batch_size: size of the batches of data (default: 32).\n",
      " |          shuffle: whether to shuffle the data (default: True)\n",
      " |          seed: optional random seed for shuffling and transformations.\n",
      " |          save_to_dir: None or str (default: None). This allows you to optionally\n",
      " |            specify a directory to which to save the augmented pictures being\n",
      " |            generated (useful for visualizing what you are doing).\n",
      " |          save_prefix: str. Prefix to use for filenames of saved pictures (only\n",
      " |            relevant if `save_to_dir` is set).\n",
      " |          save_format: one of \"png\", \"jpeg\"\n",
      " |              (only relevant if `save_to_dir` is set). Default: \"png\".\n",
      " |          subset: Subset of data (`\"training\"` or `\"validation\"`) if\n",
      " |            `validation_split` is set in `ImageDataGenerator`.\n",
      " |          interpolation: Interpolation method used to resample the image if the\n",
      " |            target size is different from that of the loaded image. Supported\n",
      " |            methods are `\"nearest\"`, `\"bilinear\"`, and `\"bicubic\"`. If PIL version\n",
      " |            1.1.3 or newer is installed, `\"lanczos\"` is also supported. If PIL\n",
      " |            version 3.4.0 or newer is installed, `\"box\"` and `\"hamming\"` are also\n",
      " |            supported. By default, `\"nearest\"` is used.\n",
      " |          validate_filenames: Boolean, whether to validate image filenames in\n",
      " |            `x_col`. If `True`, invalid images will be ignored. Disabling this\n",
      " |            option can lead to speed-up in the execution of this function.\n",
      " |            Defaults to `True`.\n",
      " |          **kwargs: legacy arguments for raising deprecation warnings.\n",
      " |      \n",
      " |      Returns:\n",
      " |          A `DataFrameIterator` yielding tuples of `(x, y)`\n",
      " |          where `x` is a numpy array containing a batch\n",
      " |          of images with shape `(batch_size, *target_size, channels)`\n",
      " |          and `y` is a numpy array of corresponding labels.\n",
      " |  \n",
      " |  flow_from_directory(self, directory, target_size=(256, 256), color_mode='rgb', classes=None, class_mode='categorical', batch_size=32, shuffle=True, seed=None, save_to_dir=None, save_prefix='', save_format='png', follow_links=False, subset=None, interpolation='nearest')\n",
      " |      Takes the path to a directory & generates batches of augmented data.\n",
      " |      \n",
      " |      Arguments:\n",
      " |          directory: string, path to the target directory. It should contain one\n",
      " |            subdirectory per class. Any PNG, JPG, BMP, PPM or TIF images inside\n",
      " |            each of the subdirectories directory tree will be included in the\n",
      " |            generator. See [this script](\n",
      " |              https://gist.github.com/fchollet/0830affa1f7f19fd47b06d4cf89ed44d)\n",
      " |                for more details.\n",
      " |          target_size: Tuple of integers `(height, width)`, defaults to `(256,\n",
      " |            256)`. The dimensions to which all images found will be resized.\n",
      " |          color_mode: One of \"grayscale\", \"rgb\", \"rgba\". Default: \"rgb\". Whether\n",
      " |            the images will be converted to have 1, 3, or 4 channels.\n",
      " |          classes: Optional list of class subdirectories\n",
      " |              (e.g. `['dogs', 'cats']`). Default: None. If not provided, the list\n",
      " |                of classes will be automatically inferred from the subdirectory\n",
      " |                names/structure under `directory`, where each subdirectory will be\n",
      " |                treated as a different class (and the order of the classes, which\n",
      " |                will map to the label indices, will be alphanumeric). The\n",
      " |                dictionary containing the mapping from class names to class\n",
      " |                indices can be obtained via the attribute `class_indices`.\n",
      " |          class_mode: One of \"categorical\", \"binary\", \"sparse\",\n",
      " |              \"input\", or None. Default: \"categorical\".\n",
      " |              Determines the type of label arrays that are returned: -\n",
      " |                \"categorical\" will be 2D one-hot encoded labels, - \"binary\" will\n",
      " |                be 1D binary labels, \"sparse\" will be 1D integer labels, - \"input\"\n",
      " |                will be images identical to input images (mainly used to work with\n",
      " |                autoencoders). - If None, no labels are returned (the generator\n",
      " |                will only yield batches of image data, which is useful to use with\n",
      " |                `model.predict_generator()`). Please note that in case of\n",
      " |                class_mode None, the data still needs to reside in a subdirectory\n",
      " |                of `directory` for it to work correctly.\n",
      " |          batch_size: Size of the batches of data (default: 32).\n",
      " |          shuffle: Whether to shuffle the data (default: True) If set to False,\n",
      " |            sorts the data in alphanumeric order.\n",
      " |          seed: Optional random seed for shuffling and transformations.\n",
      " |          save_to_dir: None or str (default: None). This allows you to optionally\n",
      " |            specify a directory to which to save the augmented pictures being\n",
      " |            generated (useful for visualizing what you are doing).\n",
      " |          save_prefix: Str. Prefix to use for filenames of saved pictures (only\n",
      " |            relevant if `save_to_dir` is set).\n",
      " |          save_format: One of \"png\", \"jpeg\"\n",
      " |              (only relevant if `save_to_dir` is set). Default: \"png\".\n",
      " |          follow_links: Whether to follow symlinks inside\n",
      " |              class subdirectories (default: False).\n",
      " |          subset: Subset of data (`\"training\"` or `\"validation\"`) if\n",
      " |            `validation_split` is set in `ImageDataGenerator`.\n",
      " |          interpolation: Interpolation method used to resample the image if the\n",
      " |            target size is different from that of the loaded image. Supported\n",
      " |            methods are `\"nearest\"`, `\"bilinear\"`, and `\"bicubic\"`. If PIL version\n",
      " |            1.1.3 or newer is installed, `\"lanczos\"` is also supported. If PIL\n",
      " |            version 3.4.0 or newer is installed, `\"box\"` and `\"hamming\"` are also\n",
      " |            supported. By default, `\"nearest\"` is used.\n",
      " |      \n",
      " |      Returns:\n",
      " |          A `DirectoryIterator` yielding tuples of `(x, y)`\n",
      " |              where `x` is a numpy array containing a batch\n",
      " |              of images with shape `(batch_size, *target_size, channels)`\n",
      " |              and `y` is a numpy array of corresponding labels.\n",
      " |  \n",
      " |  ----------------------------------------------------------------------\n",
      " |  Methods inherited from keras_preprocessing.image.image_data_generator.ImageDataGenerator:\n",
      " |  \n",
      " |  apply_transform(self, x, transform_parameters)\n",
      " |      Applies a transformation to an image according to given parameters.\n",
      " |      \n",
      " |      # Arguments\n",
      " |          x: 3D tensor, single image.\n",
      " |          transform_parameters: Dictionary with string - parameter pairs\n",
      " |              describing the transformation.\n",
      " |              Currently, the following parameters\n",
      " |              from the dictionary are used:\n",
      " |              - `'theta'`: Float. Rotation angle in degrees.\n",
      " |              - `'tx'`: Float. Shift in the x direction.\n",
      " |              - `'ty'`: Float. Shift in the y direction.\n",
      " |              - `'shear'`: Float. Shear angle in degrees.\n",
      " |              - `'zx'`: Float. Zoom in the x direction.\n",
      " |              - `'zy'`: Float. Zoom in the y direction.\n",
      " |              - `'flip_horizontal'`: Boolean. Horizontal flip.\n",
      " |              - `'flip_vertical'`: Boolean. Vertical flip.\n",
      " |              - `'channel_shift_intensity'`: Float. Channel shift intensity.\n",
      " |              - `'brightness'`: Float. Brightness shift intensity.\n",
      " |      \n",
      " |      # Returns\n",
      " |          A transformed version of the input (same shape).\n",
      " |  \n",
      " |  fit(self, x, augment=False, rounds=1, seed=None)\n",
      " |      Fits the data generator to some sample data.\n",
      " |      \n",
      " |      This computes the internal data stats related to the\n",
      " |      data-dependent transformations, based on an array of sample data.\n",
      " |      \n",
      " |      Only required if `featurewise_center` or\n",
      " |      `featurewise_std_normalization` or `zca_whitening` are set to True.\n",
      " |      \n",
      " |      When `rescale` is set to a value, rescaling is applied to\n",
      " |      sample data before computing the internal data stats.\n",
      " |      \n",
      " |      # Arguments\n",
      " |          x: Sample data. Should have rank 4.\n",
      " |           In case of grayscale data,\n",
      " |           the channels axis should have value 1, in case\n",
      " |           of RGB data, it should have value 3, and in case\n",
      " |           of RGBA data, it should have value 4.\n",
      " |          augment: Boolean (default: False).\n",
      " |              Whether to fit on randomly augmented samples.\n",
      " |          rounds: Int (default: 1).\n",
      " |              If using data augmentation (`augment=True`),\n",
      " |              this is how many augmentation passes over the data to use.\n",
      " |          seed: Int (default: None). Random seed.\n",
      " |  \n",
      " |  get_random_transform(self, img_shape, seed=None)\n",
      " |      Generates random parameters for a transformation.\n",
      " |      \n",
      " |      # Arguments\n",
      " |          seed: Random seed.\n",
      " |          img_shape: Tuple of integers.\n",
      " |              Shape of the image that is transformed.\n",
      " |      \n",
      " |      # Returns\n",
      " |          A dictionary containing randomly chosen parameters describing the\n",
      " |          transformation.\n",
      " |  \n",
      " |  random_transform(self, x, seed=None)\n",
      " |      Applies a random transformation to an image.\n",
      " |      \n",
      " |      # Arguments\n",
      " |          x: 3D tensor, single image.\n",
      " |          seed: Random seed.\n",
      " |      \n",
      " |      # Returns\n",
      " |          A randomly transformed version of the input (same shape).\n",
      " |  \n",
      " |  standardize(self, x)\n",
      " |      Applies the normalization configuration in-place to a batch of inputs.\n",
      " |      \n",
      " |      `x` is changed in-place since the function is mainly used internally\n",
      " |      to standardize images and feed them to your network. If a copy of `x`\n",
      " |      would be created instead it would have a significant performance cost.\n",
      " |      If you want to apply this method without changing the input in-place\n",
      " |      you can call the method creating a copy before:\n",
      " |      \n",
      " |      standardize(np.copy(x))\n",
      " |      \n",
      " |      # Arguments\n",
      " |          x: Batch of inputs to be normalized.\n",
      " |      \n",
      " |      # Returns\n",
      " |          The inputs, normalized.\n",
      " |  \n",
      " |  ----------------------------------------------------------------------\n",
      " |  Data descriptors inherited from keras_preprocessing.image.image_data_generator.ImageDataGenerator:\n",
      " |  \n",
      " |  __dict__\n",
      " |      dictionary for instance variables (if defined)\n",
      " |  \n",
      " |  __weakref__\n",
      " |      list of weak references to the object (if defined)\n",
      "\n"
     ]
    }
   ],
   "source": [
    "help(ImageDataGenerator)"
   ]
  },
  {
   "cell_type": "code",
   "execution_count": 86,
   "metadata": {},
   "outputs": [],
   "source": [
    "# image_gen = ImageDataGenerator(rotation_range=20, # rotate the image 20 degrees\n",
    "#                                width_shift_range=0.10, # Shift the pic width by a max of 5%\n",
    "#                                height_shift_range=0.10, # Shift the pic height by a max of 5%\n",
    "#                                rescale=1/255, # Rescale the image by normalzing it.\n",
    "#                                shear_range=0.1, # Shear means cutting away part of the image (max 10%)\n",
    "#                                zoom_range=0.1, # Zoom in by 10% max\n",
    "#                                horizontal_flip=True, # Allo horizontal flipping\n",
    "#                                fill_mode='nearest' # Fill in missing pixels with the nearest filled value\n",
    "#                               )\n",
    "image_gen = ImageDataGenerator(width_shift_range=0.10, # Shift the pic width by a max of 5%\n",
    "                               height_shift_range=0.10, # Shift the pic height by a max of 5%\n",
    "                               rescale=1/255, # Rescale the image by normalzing it.\n",
    "                               shear_range=0.1, # Shear means cutting away part of the image (max 10%)\n",
    "                               zoom_range=0.1, # Zoom in by 10% max\n",
    "                               fill_mode='nearest' # Fill in missing pixels with the nearest filled value\n",
    "                              )"
   ]
  },
  {
   "cell_type": "code",
   "execution_count": 87,
   "metadata": {},
   "outputs": [
    {
     "data": {
      "text/plain": [
       "<matplotlib.image.AxesImage at 0x16d37bae2e0>"
      ]
     },
     "execution_count": 87,
     "metadata": {},
     "output_type": "execute_result"
    },
    {
     "data": {
      "image/png": "[encoded data removed]",
      "text/plain": [
       "<Figure size 432x288 with 1 Axes>"
      ]
     },
     "metadata": {
      "needs_background": "light"
     },
     "output_type": "display_data"
    }
   ],
   "source": [
    "plt.imshow(para_img)"
   ]
  },
  {
   "cell_type": "code",
   "execution_count": 88,
   "metadata": {},
   "outputs": [
    {
     "data": {
      "text/plain": [
       "<matplotlib.image.AxesImage at 0x16d37c0e280>"
      ]
     },
     "execution_count": 88,
     "metadata": {},
     "output_type": "execute_result"
    },
    {
     "data": {
      "image/png": "[encoded data removed]",
      "text/plain": [
       "<Figure size 432x288 with 1 Axes>"
      ]
     },
     "metadata": {
      "needs_background": "light"
     },
     "output_type": "display_data"
    }
   ],
   "source": [
    "plt.imshow(image_gen.random_transform(para_img))"
   ]
  },
  {
   "cell_type": "code",
   "execution_count": 89,
   "metadata": {},
   "outputs": [
    {
     "data": {
      "text/plain": [
       "<matplotlib.image.AxesImage at 0x16d37c6e190>"
      ]
     },
     "execution_count": 89,
     "metadata": {},
     "output_type": "execute_result"
    },
    {
     "data": {
      "image/png": "[encoded data removed]",
      "text/plain": [
       "<Figure size 432x288 with 1 Axes>"
      ]
     },
     "metadata": {
      "needs_background": "light"
     },
     "output_type": "display_data"
    }
   ],
   "source": [
    "plt.imshow(image_gen.random_transform(para_img))"
   ]
  },
  {
   "cell_type": "markdown",
   "metadata": {},
   "source": [
    "### Generating many manipulated images from a directory\n",
    "\n",
    "\n",
    "In order to use .flow_from_directory, you must organize the images in sub-directories. This is an absolute requirement, otherwise the method won't work. The directories should only contain images of one class, so one folder per class of images.\n",
    "\n",
    "Structure Needed:\n",
    "\n",
    "* Image Data Folder\n",
    "    * Class 1\n",
    "        * 0.jpg\n",
    "        * 1.jpg\n",
    "        * ...\n",
    "    * Class 2\n",
    "        * 0.jpg\n",
    "        * 1.jpg\n",
    "        * ...\n",
    "    * ...\n",
    "    * Class n"
   ]
  },
  {
   "cell_type": "code",
   "execution_count": 90,
   "metadata": {},
   "outputs": [
    {
     "name": "stdout",
     "output_type": "stream",
     "text": [
      "Found 60 images belonging to 2 classes.\n"
     ]
    },
    {
     "data": {
      "text/plain": [
       "<tensorflow.python.keras.preprocessing.image.DirectoryIterator at 0x16d37c1d640>"
      ]
     },
     "execution_count": 90,
     "metadata": {},
     "output_type": "execute_result"
    }
   ],
   "source": [
    "image_gen.flow_from_directory(train_path)"
   ]
  },
  {
   "cell_type": "code",
   "execution_count": 92,
   "metadata": {},
   "outputs": [
    {
     "name": "stdout",
     "output_type": "stream",
     "text": [
      "Found 60 images belonging to 2 classes.\n"
     ]
    },
    {
     "data": {
      "text/plain": [
       "<tensorflow.python.keras.preprocessing.image.DirectoryIterator at 0x16d3790e910>"
      ]
     },
     "execution_count": 92,
     "metadata": {},
     "output_type": "execute_result"
    }
   ],
   "source": [
    "image_gen.flow_from_directory(test_path)"
   ]
  },
  {
   "cell_type": "markdown",
   "metadata": {},
   "source": [
    "# Creating the Model"
   ]
  },
  {
   "cell_type": "code",
   "execution_count": 93,
   "metadata": {},
   "outputs": [],
   "source": [
    "from tensorflow.keras.models import Sequential\n",
    "from tensorflow.keras.layers import Activation, Dropout, Flatten, Dense, Conv2D, MaxPooling2D"
   ]
  },
  {
   "cell_type": "code",
   "execution_count": 94,
   "metadata": {},
   "outputs": [],
   "source": [
    "#https://stats.stackexchange.com/questions/148139/rules-for-selecting-convolutional-neural-network-hyperparameters\n",
    "model = Sequential()\n",
    "\n",
    "model.add(Conv2D(filters=32, kernel_size=(3,3),input_shape=image_shape, activation='relu',))\n",
    "model.add(MaxPooling2D(pool_size=(2, 2)))\n",
    "\n",
    "model.add(Conv2D(filters=32, kernel_size=(3,3),input_shape=image_shape, activation='relu',))\n",
    "model.add(MaxPooling2D(pool_size=(2, 2)))\n",
    "\n",
    "model.add(Conv2D(filters=32, kernel_size=(3,3),input_shape=image_shape, activation='relu',))\n",
    "model.add(MaxPooling2D(pool_size=(2, 2)))\n",
    "\n",
    "\n",
    "model.add(Flatten())\n",
    "\n",
    "\n",
    "model.add(Dense(128))\n",
    "model.add(Activation('relu'))\n",
    "\n",
    "# Dropouts help reduce overfitting by randomly turning neurons off during training.\n",
    "# Here we say randomly turn off 50% of neurons.\n",
    "model.add(Dropout(0.5))\n",
    "\n",
    "# Last layer, remember its binary so we use sigmoid\n",
    "model.add(Dense(1))\n",
    "model.add(Activation('sigmoid'))\n",
    "\n",
    "model.compile(loss='binary_crossentropy',\n",
    "              optimizer='adam',\n",
    "              metrics=['accuracy'])"
   ]
  },
  {
   "cell_type": "code",
   "execution_count": 95,
   "metadata": {},
   "outputs": [
    {
     "name": "stdout",
     "output_type": "stream",
     "text": [
      "Model: \"sequential_1\"\n",
      "_________________________________________________________________\n",
      "Layer (type)                 Output Shape              Param #   \n",
      "=================================================================\n",
      "conv2d_3 (Conv2D)            (None, 221, 225, 32)      896       \n",
      "_________________________________________________________________\n",
      "max_pooling2d_3 (MaxPooling2 (None, 110, 112, 32)      0         \n",
      "_________________________________________________________________\n",
      "conv2d_4 (Conv2D)            (None, 108, 110, 32)      9248      \n",
      "_________________________________________________________________\n",
      "max_pooling2d_4 (MaxPooling2 (None, 54, 55, 32)        0         \n",
      "_________________________________________________________________\n",
      "conv2d_5 (Conv2D)            (None, 52, 53, 32)        9248      \n",
      "_________________________________________________________________\n",
      "max_pooling2d_5 (MaxPooling2 (None, 26, 26, 32)        0         \n",
      "_________________________________________________________________\n",
      "flatten_1 (Flatten)          (None, 21632)             0         \n",
      "_________________________________________________________________\n",
      "dense_2 (Dense)              (None, 128)               2769024   \n",
      "_________________________________________________________________\n",
      "activation_2 (Activation)    (None, 128)               0         \n",
      "_________________________________________________________________\n",
      "dropout_1 (Dropout)          (None, 128)               0         \n",
      "_________________________________________________________________\n",
      "dense_3 (Dense)              (None, 1)                 129       \n",
      "_________________________________________________________________\n",
      "activation_3 (Activation)    (None, 1)                 0         \n",
      "=================================================================\n",
      "Total params: 2,788,545\n",
      "Trainable params: 2,788,545\n",
      "Non-trainable params: 0\n",
      "_________________________________________________________________\n"
     ]
    }
   ],
   "source": [
    "model.summary()"
   ]
  },
  {
   "cell_type": "markdown",
   "metadata": {},
   "source": [
    "## Early Stopping"
   ]
  },
  {
   "cell_type": "code",
   "execution_count": 96,
   "metadata": {},
   "outputs": [],
   "source": [
    "from tensorflow.keras.callbacks import EarlyStopping"
   ]
  },
  {
   "cell_type": "code",
   "execution_count": 97,
   "metadata": {},
   "outputs": [],
   "source": [
    "early_stop = EarlyStopping(monitor='val_loss',patience=4)"
   ]
  },
  {
   "cell_type": "markdown",
   "metadata": {},
   "source": [
    "## Training the Model"
   ]
  },
  {
   "cell_type": "code",
   "execution_count": 98,
   "metadata": {},
   "outputs": [
    {
     "name": "stdout",
     "output_type": "stream",
     "text": [
      "Help on method flow_from_directory in module tensorflow.python.keras.preprocessing.image:\n",
      "\n",
      "flow_from_directory(directory, target_size=(256, 256), color_mode='rgb', classes=None, class_mode='categorical', batch_size=32, shuffle=True, seed=None, save_to_dir=None, save_prefix='', save_format='png', follow_links=False, subset=None, interpolation='nearest') method of tensorflow.python.keras.preprocessing.image.ImageDataGenerator instance\n",
      "    Takes the path to a directory & generates batches of augmented data.\n",
      "    \n",
      "    Arguments:\n",
      "        directory: string, path to the target directory. It should contain one\n",
      "          subdirectory per class. Any PNG, JPG, BMP, PPM or TIF images inside\n",
      "          each of the subdirectories directory tree will be included in the\n",
      "          generator. See [this script](\n",
      "            https://gist.github.com/fchollet/0830affa1f7f19fd47b06d4cf89ed44d)\n",
      "              for more details.\n",
      "        target_size: Tuple of integers `(height, width)`, defaults to `(256,\n",
      "          256)`. The dimensions to which all images found will be resized.\n",
      "        color_mode: One of \"grayscale\", \"rgb\", \"rgba\". Default: \"rgb\". Whether\n",
      "          the images will be converted to have 1, 3, or 4 channels.\n",
      "        classes: Optional list of class subdirectories\n",
      "            (e.g. `['dogs', 'cats']`). Default: None. If not provided, the list\n",
      "              of classes will be automatically inferred from the subdirectory\n",
      "              names/structure under `directory`, where each subdirectory will be\n",
      "              treated as a different class (and the order of the classes, which\n",
      "              will map to the label indices, will be alphanumeric). The\n",
      "              dictionary containing the mapping from class names to class\n",
      "              indices can be obtained via the attribute `class_indices`.\n",
      "        class_mode: One of \"categorical\", \"binary\", \"sparse\",\n",
      "            \"input\", or None. Default: \"categorical\".\n",
      "            Determines the type of label arrays that are returned: -\n",
      "              \"categorical\" will be 2D one-hot encoded labels, - \"binary\" will\n",
      "              be 1D binary labels, \"sparse\" will be 1D integer labels, - \"input\"\n",
      "              will be images identical to input images (mainly used to work with\n",
      "              autoencoders). - If None, no labels are returned (the generator\n",
      "              will only yield batches of image data, which is useful to use with\n",
      "              `model.predict_generator()`). Please note that in case of\n",
      "              class_mode None, the data still needs to reside in a subdirectory\n",
      "              of `directory` for it to work correctly.\n",
      "        batch_size: Size of the batches of data (default: 32).\n",
      "        shuffle: Whether to shuffle the data (default: True) If set to False,\n",
      "          sorts the data in alphanumeric order.\n",
      "        seed: Optional random seed for shuffling and transformations.\n",
      "        save_to_dir: None or str (default: None). This allows you to optionally\n",
      "          specify a directory to which to save the augmented pictures being\n",
      "          generated (useful for visualizing what you are doing).\n",
      "        save_prefix: Str. Prefix to use for filenames of saved pictures (only\n",
      "          relevant if `save_to_dir` is set).\n",
      "        save_format: One of \"png\", \"jpeg\"\n",
      "            (only relevant if `save_to_dir` is set). Default: \"png\".\n",
      "        follow_links: Whether to follow symlinks inside\n",
      "            class subdirectories (default: False).\n",
      "        subset: Subset of data (`\"training\"` or `\"validation\"`) if\n",
      "          `validation_split` is set in `ImageDataGenerator`.\n",
      "        interpolation: Interpolation method used to resample the image if the\n",
      "          target size is different from that of the loaded image. Supported\n",
      "          methods are `\"nearest\"`, `\"bilinear\"`, and `\"bicubic\"`. If PIL version\n",
      "          1.1.3 or newer is installed, `\"lanczos\"` is also supported. If PIL\n",
      "          version 3.4.0 or newer is installed, `\"box\"` and `\"hamming\"` are also\n",
      "          supported. By default, `\"nearest\"` is used.\n",
      "    \n",
      "    Returns:\n",
      "        A `DirectoryIterator` yielding tuples of `(x, y)`\n",
      "            where `x` is a numpy array containing a batch\n",
      "            of images with shape `(batch_size, *target_size, channels)`\n",
      "            and `y` is a numpy array of corresponding labels.\n",
      "\n"
     ]
    }
   ],
   "source": [
    "help(image_gen.flow_from_directory)"
   ]
  },
  {
   "cell_type": "code",
   "execution_count": 99,
   "metadata": {},
   "outputs": [],
   "source": [
    "batch_size = 5"
   ]
  },
  {
   "cell_type": "code",
   "execution_count": 100,
   "metadata": {},
   "outputs": [
    {
     "name": "stdout",
     "output_type": "stream",
     "text": [
      "Found 60 images belonging to 2 classes.\n"
     ]
    }
   ],
   "source": [
    "train_image_gen = image_gen.flow_from_directory(train_path,\n",
    "                                               target_size=image_shape[:2],\n",
    "                                                color_mode='rgb',\n",
    "                                               batch_size=batch_size,\n",
    "                                               class_mode='binary')"
   ]
  },
  {
   "cell_type": "code",
   "execution_count": 101,
   "metadata": {},
   "outputs": [
    {
     "name": "stdout",
     "output_type": "stream",
     "text": [
      "Found 60 images belonging to 2 classes.\n"
     ]
    }
   ],
   "source": [
    "test_image_gen = image_gen.flow_from_directory(test_path,\n",
    "                                               target_size=image_shape[:2],\n",
    "                                               color_mode='rgb',\n",
    "                                               batch_size=batch_size,\n",
    "                                               class_mode='binary',shuffle=False)"
   ]
  },
  {
   "cell_type": "code",
   "execution_count": 102,
   "metadata": {},
   "outputs": [
    {
     "data": {
      "text/plain": [
       "{'balls': 0, 'hockey': 1}"
      ]
     },
     "execution_count": 102,
     "metadata": {},
     "output_type": "execute_result"
    }
   ],
   "source": [
    "train_image_gen.class_indices"
   ]
  },
  {
   "cell_type": "code",
   "execution_count": 103,
   "metadata": {},
   "outputs": [],
   "source": [
    "import warnings\n",
    "warnings.filterwarnings('ignore')"
   ]
  },
  {
   "cell_type": "code",
   "execution_count": 104,
   "metadata": {
    "scrolled": true
   },
   "outputs": [
    {
     "name": "stdout",
     "output_type": "stream",
     "text": [
      "Epoch 1/20\n",
      "12/12 [==============================] - 5s 409ms/step - loss: 0.8437 - accuracy: 0.5167 - val_loss: 0.6792 - val_accuracy: 0.4833\n",
      "Epoch 2/20\n",
      "12/12 [==============================] - 4s 373ms/step - loss: 0.6709 - accuracy: 0.5167 - val_loss: 0.6351 - val_accuracy: 0.6000\n",
      "Epoch 3/20\n",
      "12/12 [==============================] - 5s 375ms/step - loss: 0.6090 - accuracy: 0.7167 - val_loss: 0.6045 - val_accuracy: 0.6333\n",
      "Epoch 4/20\n",
      "12/12 [==============================] - 5s 377ms/step - loss: 0.6624 - accuracy: 0.6833 - val_loss: 0.5327 - val_accuracy: 0.6833\n",
      "Epoch 5/20\n",
      "12/12 [==============================] - 4s 372ms/step - loss: 0.6018 - accuracy: 0.6333 - val_loss: 0.6073 - val_accuracy: 0.6500\n",
      "Epoch 6/20\n",
      "12/12 [==============================] - 5s 389ms/step - loss: 0.6229 - accuracy: 0.6667 - val_loss: 0.5765 - val_accuracy: 0.9500\n",
      "Epoch 7/20\n",
      "12/12 [==============================] - 5s 387ms/step - loss: 0.5448 - accuracy: 0.6667 - val_loss: 0.4376 - val_accuracy: 0.7500\n",
      "Epoch 8/20\n",
      "12/12 [==============================] - 5s 378ms/step - loss: 0.4884 - accuracy: 0.7167 - val_loss: 0.3859 - val_accuracy: 0.8500\n",
      "Epoch 9/20\n",
      "12/12 [==============================] - 5s 382ms/step - loss: 0.4198 - accuracy: 0.8167 - val_loss: 0.3206 - val_accuracy: 0.9167\n",
      "Epoch 10/20\n",
      "12/12 [==============================] - 5s 377ms/step - loss: 0.3466 - accuracy: 0.8167 - val_loss: 0.2310 - val_accuracy: 0.9667\n",
      "Epoch 11/20\n",
      "12/12 [==============================] - 4s 369ms/step - loss: 0.2752 - accuracy: 0.9000 - val_loss: 0.2731 - val_accuracy: 0.9000\n",
      "Epoch 12/20\n",
      "12/12 [==============================] - 5s 377ms/step - loss: 0.3443 - accuracy: 0.8333 - val_loss: 0.3476 - val_accuracy: 0.8333\n",
      "Epoch 13/20\n",
      "12/12 [==============================] - 4s 372ms/step - loss: 0.4639 - accuracy: 0.8000 - val_loss: 0.2964 - val_accuracy: 0.9333\n",
      "Epoch 14/20\n",
      "12/12 [==============================] - 5s 383ms/step - loss: 0.3332 - accuracy: 0.8667 - val_loss: 0.2770 - val_accuracy: 0.9167\n"
     ]
    }
   ],
   "source": [
    "results = model.fit_generator(train_image_gen,epochs=20,\n",
    "                              validation_data=test_image_gen,\n",
    "                             callbacks=[early_stop])"
   ]
  },
  {
   "cell_type": "code",
   "execution_count": 105,
   "metadata": {},
   "outputs": [],
   "source": [
    "from tensorflow.keras.models import load_model\n",
    "model.save('malaria_detector.h5')"
   ]
  },
  {
   "cell_type": "markdown",
   "metadata": {},
   "source": [
    "# Evaluating the Model"
   ]
  },
  {
   "cell_type": "code",
   "execution_count": 106,
   "metadata": {},
   "outputs": [],
   "source": [
    "losses = pd.DataFrame(model.history.history)"
   ]
  },
  {
   "cell_type": "code",
   "execution_count": 107,
   "metadata": {},
   "outputs": [
    {
     "data": {
      "text/plain": [
       "<AxesSubplot:>"
      ]
     },
     "execution_count": 107,
     "metadata": {},
     "output_type": "execute_result"
    },
    {
     "data": {
      "image/png": "[encoded data removed]",
      "text/plain": [
       "<Figure size 432x288 with 1 Axes>"
      ]
     },
     "metadata": {
      "needs_background": "light"
     },
     "output_type": "display_data"
    }
   ],
   "source": [
    "losses[['loss','val_loss']].plot()"
   ]
  },
  {
   "cell_type": "code",
   "execution_count": 108,
   "metadata": {},
   "outputs": [
    {
     "data": {
      "text/plain": [
       "['loss', 'accuracy']"
      ]
     },
     "execution_count": 108,
     "metadata": {},
     "output_type": "execute_result"
    }
   ],
   "source": [
    "model.metrics_names"
   ]
  },
  {
   "cell_type": "code",
   "execution_count": 109,
   "metadata": {},
   "outputs": [
    {
     "data": {
      "text/plain": [
       "[0.19244012236595154, 0.9666666388511658]"
      ]
     },
     "execution_count": 109,
     "metadata": {},
     "output_type": "execute_result"
    }
   ],
   "source": [
    "model.evaluate_generator(test_image_gen)"
   ]
  },
  {
   "cell_type": "code",
   "execution_count": 110,
   "metadata": {},
   "outputs": [],
   "source": [
    "from tensorflow.keras.preprocessing import image"
   ]
  },
  {
   "cell_type": "code",
   "execution_count": 111,
   "metadata": {},
   "outputs": [],
   "source": [
    "# https://datascience.stackexchange.com/questions/13894/how-to-get-predictions-with-predict-generator-on-streaming-test-data-in-keras\n",
    "pred_probabilities = model.predict_generator(test_image_gen)"
   ]
  },
  {
   "cell_type": "code",
   "execution_count": 112,
   "metadata": {},
   "outputs": [
    {
     "data": {
      "text/plain": [
       "array([[3.3299851e-01],\n",
       "       [7.4659646e-01],\n",
       "       [3.6695674e-01],\n",
       "       [1.1537924e-05],\n",
       "       [2.5701624e-01],\n",
       "       [6.6872269e-02],\n",
       "       [3.4885651e-01],\n",
       "       [3.5863531e-01],\n",
       "       [5.2392668e-01],\n",
       "       [8.0594253e-10],\n",
       "       [3.5551373e-09],\n",
       "       [3.8573456e-01],\n",
       "       [3.0942136e-01],\n",
       "       [3.9855546e-01],\n",
       "       [3.4602046e-01],\n",
       "       [3.7201810e-01],\n",
       "       [3.0951437e-09],\n",
       "       [1.6200769e-01],\n",
       "       [6.0934246e-02],\n",
       "       [2.5069568e-07],\n",
       "       [1.6732839e-01],\n",
       "       [3.7086791e-01],\n",
       "       [2.2576301e-06],\n",
       "       [7.0515156e-02],\n",
       "       [9.4443649e-08],\n",
       "       [2.6257446e-01],\n",
       "       [1.6528964e-03],\n",
       "       [1.2737724e-01],\n",
       "       [1.9519824e-01],\n",
       "       [9.5514953e-01],\n",
       "       [9.0776253e-01],\n",
       "       [4.4308680e-01],\n",
       "       [8.5116857e-01],\n",
       "       [9.8660719e-01],\n",
       "       [8.2238203e-01],\n",
       "       [4.4280761e-01],\n",
       "       [9.8219329e-01],\n",
       "       [9.9957472e-01],\n",
       "       [9.7025478e-01],\n",
       "       [9.6304798e-01],\n",
       "       [5.0254166e-01],\n",
       "       [9.4037324e-01],\n",
       "       [9.6913660e-01],\n",
       "       [5.7722253e-01],\n",
       "       [9.9019569e-01],\n",
       "       [9.9986136e-01],\n",
       "       [7.3036426e-01],\n",
       "       [9.9306649e-01],\n",
       "       [9.2659307e-01],\n",
       "       [9.9861860e-01],\n",
       "       [9.1195083e-01],\n",
       "       [9.3887496e-01],\n",
       "       [9.8808366e-01],\n",
       "       [9.9952924e-01],\n",
       "       [8.9814931e-01],\n",
       "       [9.9996793e-01],\n",
       "       [7.8678477e-01],\n",
       "       [9.5042044e-01],\n",
       "       [4.0895414e-01],\n",
       "       [8.4241211e-01]], dtype=float32)"
      ]
     },
     "execution_count": 112,
     "metadata": {},
     "output_type": "execute_result"
    }
   ],
   "source": [
    "pred_probabilities"
   ]
  },
  {
   "cell_type": "code",
   "execution_count": 113,
   "metadata": {},
   "outputs": [
    {
     "data": {
      "text/plain": [
       "array([0, 0, 0, 0, 0, 0, 0, 0, 0, 0, 0, 0, 0, 0, 0, 0, 0, 0, 0, 0, 0, 0,\n",
       "       0, 0, 0, 0, 0, 0, 0, 1, 1, 1, 1, 1, 1, 1, 1, 1, 1, 1, 1, 1, 1, 1,\n",
       "       1, 1, 1, 1, 1, 1, 1, 1, 1, 1, 1, 1, 1, 1, 1, 1])"
      ]
     },
     "execution_count": 113,
     "metadata": {},
     "output_type": "execute_result"
    }
   ],
   "source": [
    "test_image_gen.classes"
   ]
  },
  {
   "cell_type": "code",
   "execution_count": 114,
   "metadata": {},
   "outputs": [],
   "source": [
    "predictions = pred_probabilities > 0.5"
   ]
  },
  {
   "cell_type": "code",
   "execution_count": 115,
   "metadata": {},
   "outputs": [
    {
     "data": {
      "text/plain": [
       "array([[False],\n",
       "       [ True],\n",
       "       [False],\n",
       "       [False],\n",
       "       [False],\n",
       "       [False],\n",
       "       [False],\n",
       "       [False],\n",
       "       [ True],\n",
       "       [False],\n",
       "       [False],\n",
       "       [False],\n",
       "       [False],\n",
       "       [False],\n",
       "       [False],\n",
       "       [False],\n",
       "       [False],\n",
       "       [False],\n",
       "       [False],\n",
       "       [False],\n",
       "       [False],\n",
       "       [False],\n",
       "       [False],\n",
       "       [False],\n",
       "       [False],\n",
       "       [False],\n",
       "       [False],\n",
       "       [False],\n",
       "       [False],\n",
       "       [ True],\n",
       "       [ True],\n",
       "       [False],\n",
       "       [ True],\n",
       "       [ True],\n",
       "       [ True],\n",
       "       [False],\n",
       "       [ True],\n",
       "       [ True],\n",
       "       [ True],\n",
       "       [ True],\n",
       "       [ True],\n",
       "       [ True],\n",
       "       [ True],\n",
       "       [ True],\n",
       "       [ True],\n",
       "       [ True],\n",
       "       [ True],\n",
       "       [ True],\n",
       "       [ True],\n",
       "       [ True],\n",
       "       [ True],\n",
       "       [ True],\n",
       "       [ True],\n",
       "       [ True],\n",
       "       [ True],\n",
       "       [ True],\n",
       "       [ True],\n",
       "       [ True],\n",
       "       [False],\n",
       "       [ True]])"
      ]
     },
     "execution_count": 115,
     "metadata": {},
     "output_type": "execute_result"
    }
   ],
   "source": [
    "# Numpy can treat this as True/False for us\n",
    "predictions"
   ]
  },
  {
   "cell_type": "code",
   "execution_count": 116,
   "metadata": {},
   "outputs": [],
   "source": [
    "from sklearn.metrics import classification_report,confusion_matrix"
   ]
  },
  {
   "cell_type": "code",
   "execution_count": 117,
   "metadata": {},
   "outputs": [
    {
     "name": "stdout",
     "output_type": "stream",
     "text": [
      "              precision    recall  f1-score   support\n",
      "\n",
      "           0       0.90      0.93      0.92        29\n",
      "           1       0.93      0.90      0.92        31\n",
      "\n",
      "    accuracy                           0.92        60\n",
      "   macro avg       0.92      0.92      0.92        60\n",
      "weighted avg       0.92      0.92      0.92        60\n",
      "\n"
     ]
    }
   ],
   "source": [
    "print(classification_report(test_image_gen.classes,predictions))"
   ]
  },
  {
   "cell_type": "code",
   "execution_count": 118,
   "metadata": {},
   "outputs": [
    {
     "data": {
      "text/plain": [
       "array([[27,  2],\n",
       "       [ 3, 28]], dtype=int64)"
      ]
     },
     "execution_count": 118,
     "metadata": {},
     "output_type": "execute_result"
    }
   ],
   "source": [
    "confusion_matrix(test_image_gen.classes,predictions)"
   ]
  },
  {
   "cell_type": "markdown",
   "metadata": {},
   "source": [
    "# Predicting on an Image"
   ]
  },
  {
   "cell_type": "code",
   "execution_count": 119,
   "metadata": {},
   "outputs": [
    {
     "data": {
      "text/plain": [
       "'D:\\\\hockye_ball classification//HB_images\\\\train\\\\\\\\balls\\\\ball_1.jpg'"
      ]
     },
     "execution_count": 119,
     "metadata": {},
     "output_type": "execute_result"
    }
   ],
   "source": [
    "# Your file path will be different!\n",
    "para_cell"
   ]
  },
  {
   "cell_type": "code",
   "execution_count": 120,
   "metadata": {},
   "outputs": [
    {
     "data": {
      "text/plain": [
       "'D:\\\\hockye_ball classification//HB_images\\\\test\\\\'"
      ]
     },
     "execution_count": 120,
     "metadata": {},
     "output_type": "execute_result"
    }
   ],
   "source": [
    "test_path"
   ]
  },
  {
   "cell_type": "code",
   "execution_count": 121,
   "metadata": {},
   "outputs": [
    {
     "data": {
      "text/plain": [
       "'D:\\\\hockye_ball classification//HB_images\\\\prediction\\\\'"
      ]
     },
     "execution_count": 121,
     "metadata": {},
     "output_type": "execute_result"
    }
   ],
   "source": [
    "prediction"
   ]
  },
  {
   "cell_type": "code",
   "execution_count": 122,
   "metadata": {},
   "outputs": [
    {
     "name": "stdout",
     "output_type": "stream",
     "text": [
      "['ball_1.jpg', 'ball_10.jpg', 'ball_11.jpg', 'ball_12.jpg', 'ball_13.jpg', 'ball_14.jpg', 'ball_15.jpg', 'ball_16.jpg', 'ball_17.jpg', 'ball_18.jpg', 'ball_19.jpg', 'ball_2.jpg', 'ball_20.jpg', 'ball_21.jpg', 'ball_22.jpg', 'ball_23.jpg', 'ball_24.jpg', 'ball_25.jpg', 'ball_26.jpg', 'ball_27.jpg', 'ball_28.jpg', 'ball_29.jpg', 'ball_3.jpg', 'ball_30.jpg', 'ball_4.jpg', 'ball_5.jpg', 'ball_6.jpg', 'ball_8.jpg', 'hockey1.jpg', 'hockey10.jpg', 'hockey11.jpg', 'hockey12.jpg', 'hockey13.jpg', 'hockey14.jpg', 'hockey16.jpg', 'hockey17.png', 'hockey18.jpg', 'hockey19.png', 'hockey2.png', 'hockey20.jpg', 'hockey21.jpg', 'hockey22.jpg', 'hockey23.jpg', 'hockey24.jpg', 'hockey25.jpg', 'hockey26.png', 'hockey27.jpg', 'hockey28.jpg', 'hockey29.jpg', 'hockey3.jpg', 'hockey30.jpg', 'hockey4.png', 'hockey5.jpg', 'hockey6.jpg', 'hockey7.jpg', 'hockey8.jpg', 'hockey9.jpg', 'hockey9.png']\n"
     ]
    }
   ],
   "source": [
    "for (root,dirs,files) in os.walk(prediction): \n",
    "    print(files)\n",
    "\n",
    "#     para_cell = test_path+'hockey11.jpg'"
   ]
  },
  {
   "cell_type": "code",
   "execution_count": 123,
   "metadata": {},
   "outputs": [
    {
     "data": {
      "text/plain": [
       "['ball_1.jpg',\n",
       " 'ball_10.jpg',\n",
       " 'ball_11.jpg',\n",
       " 'ball_12.jpg',\n",
       " 'ball_13.jpg',\n",
       " 'ball_14.jpg',\n",
       " 'ball_15.jpg',\n",
       " 'ball_16.jpg',\n",
       " 'ball_17.jpg',\n",
       " 'ball_18.jpg',\n",
       " 'ball_19.jpg',\n",
       " 'ball_2.jpg',\n",
       " 'ball_20.jpg',\n",
       " 'ball_21.jpg',\n",
       " 'ball_22.jpg',\n",
       " 'ball_23.jpg',\n",
       " 'ball_24.jpg',\n",
       " 'ball_25.jpg',\n",
       " 'ball_26.jpg',\n",
       " 'ball_27.jpg',\n",
       " 'ball_28.jpg',\n",
       " 'ball_29.jpg',\n",
       " 'ball_3.jpg',\n",
       " 'ball_30.jpg',\n",
       " 'ball_4.jpg',\n",
       " 'ball_5.jpg',\n",
       " 'ball_6.jpg',\n",
       " 'ball_8.jpg',\n",
       " 'hockey1.jpg',\n",
       " 'hockey10.jpg',\n",
       " 'hockey11.jpg',\n",
       " 'hockey12.jpg',\n",
       " 'hockey13.jpg',\n",
       " 'hockey14.jpg',\n",
       " 'hockey16.jpg',\n",
       " 'hockey17.png',\n",
       " 'hockey18.jpg',\n",
       " 'hockey19.png',\n",
       " 'hockey2.png',\n",
       " 'hockey20.jpg',\n",
       " 'hockey21.jpg',\n",
       " 'hockey22.jpg',\n",
       " 'hockey23.jpg',\n",
       " 'hockey24.jpg',\n",
       " 'hockey25.jpg',\n",
       " 'hockey26.png',\n",
       " 'hockey27.jpg',\n",
       " 'hockey28.jpg',\n",
       " 'hockey29.jpg',\n",
       " 'hockey3.jpg',\n",
       " 'hockey30.jpg',\n",
       " 'hockey4.png',\n",
       " 'hockey5.jpg',\n",
       " 'hockey6.jpg',\n",
       " 'hockey7.jpg',\n",
       " 'hockey8.jpg',\n",
       " 'hockey9.jpg',\n",
       " 'hockey9.png']"
      ]
     },
     "execution_count": 123,
     "metadata": {},
     "output_type": "execute_result"
    }
   ],
   "source": [
    "files"
   ]
  },
  {
   "cell_type": "code",
   "execution_count": 124,
   "metadata": {},
   "outputs": [
    {
     "name": "stdout",
     "output_type": "stream",
     "text": [
      "<PIL.Image.Image image mode=RGB size=227x223 at 0x16D370B6910>\n",
      "[[0.]]\n",
      "<PIL.Image.Image image mode=RGB size=227x223 at 0x16D3D729400>\n",
      "[[0.]]\n",
      "<PIL.Image.Image image mode=RGB size=227x223 at 0x16D3D742FA0>\n",
      "[[0.]]\n",
      "<PIL.Image.Image image mode=RGB size=227x223 at 0x16D3D305640>\n",
      "[[0.]]\n",
      "<PIL.Image.Image image mode=RGB size=227x223 at 0x16D3D305730>\n",
      "[[0.]]\n",
      "<PIL.Image.Image image mode=RGB size=227x223 at 0x16D3D32A0A0>\n",
      "[[0.]]\n",
      "<PIL.Image.Image image mode=RGB size=227x223 at 0x16D3D30BF40>\n",
      "[[0.]]\n",
      "<PIL.Image.Image image mode=RGB size=227x223 at 0x16D3D35C5B0>\n",
      "[[0.]]\n",
      "<PIL.Image.Image image mode=RGB size=227x223 at 0x16D3D29D2E0>\n",
      "[[1.]]\n",
      "<PIL.Image.Image image mode=RGB size=227x223 at 0x16D3D292040>\n",
      "[[0.]]\n",
      "<PIL.Image.Image image mode=RGB size=227x223 at 0x16D3D31C1C0>\n",
      "[[0.]]\n",
      "<PIL.Image.Image image mode=RGB size=227x223 at 0x16D3D283820>\n",
      "[[1.7203985e-24]]\n",
      "<PIL.Image.Image image mode=RGB size=227x223 at 0x16D3D3718B0>\n",
      "[[0.]]\n",
      "<PIL.Image.Image image mode=RGB size=227x223 at 0x16D3D3D7760>\n",
      "[[1.]]\n",
      "<PIL.Image.Image image mode=RGB size=227x223 at 0x16D3D3BD2B0>\n",
      "[[0.]]\n",
      "<PIL.Image.Image image mode=RGB size=227x223 at 0x16D3D34FC70>\n",
      "[[0.]]\n",
      "<PIL.Image.Image image mode=RGB size=227x223 at 0x16D3D30B9D0>\n",
      "[[0.]]\n",
      "<PIL.Image.Image image mode=RGB size=227x223 at 0x16D3D44F310>\n",
      "[[1.]]\n",
      "<PIL.Image.Image image mode=RGB size=227x223 at 0x16D3D3BD2B0>\n",
      "[[0.]]\n",
      "<PIL.Image.Image image mode=RGB size=227x223 at 0x16D3D3444F0>\n",
      "[[0.]]\n",
      "<PIL.Image.Image image mode=RGB size=227x223 at 0x16D3D4230A0>\n",
      "[[0.]]\n",
      "<PIL.Image.Image image mode=RGB size=227x223 at 0x16D3D473130>\n",
      "[[0.]]\n",
      "<PIL.Image.Image image mode=RGB size=227x223 at 0x16D3D4ADCD0>\n",
      "[[0.]]\n",
      "<PIL.Image.Image image mode=RGB size=227x223 at 0x16D3D402130>\n",
      "[[0.]]\n",
      "<PIL.Image.Image image mode=RGB size=227x223 at 0x16D3D4E22B0>\n",
      "[[0.]]\n",
      "<PIL.Image.Image image mode=RGB size=227x223 at 0x16D2E80D730>\n",
      "[[0.]]\n",
      "<PIL.Image.Image image mode=RGB size=227x223 at 0x16D3D0FE280>\n",
      "[[0.]]\n",
      "<PIL.Image.Image image mode=RGB size=227x223 at 0x16D378B0D60>\n",
      "[[0.]]\n",
      "<PIL.Image.Image image mode=RGB size=227x223 at 0x16D378CA5B0>\n",
      "[[1.]]\n",
      "<PIL.Image.Image image mode=RGB size=227x223 at 0x16D3D0315E0>\n",
      "[[1.]]\n",
      "<PIL.Image.Image image mode=RGB size=227x223 at 0x16D37718C40>\n",
      "[[1.]]\n",
      "<PIL.Image.Image image mode=RGB size=227x223 at 0x16D370A9820>\n",
      "[[1.]]\n",
      "<PIL.Image.Image image mode=RGB size=227x223 at 0x16D3D1A2580>\n",
      "[[1.]]\n",
      "<PIL.Image.Image image mode=RGB size=227x223 at 0x16D3D1A2580>\n",
      "[[1.]]\n",
      "<PIL.Image.Image image mode=RGB size=227x223 at 0x16D37830FA0>\n",
      "[[1.]]\n",
      "<PIL.Image.Image image mode=RGB size=227x223 at 0x16D3704AA30>\n",
      "[[1.]]\n",
      "<PIL.Image.Image image mode=RGB size=227x223 at 0x16D37F68D00>\n",
      "[[1.]]\n",
      "<PIL.Image.Image image mode=RGB size=227x223 at 0x16D288FF2B0>\n",
      "[[1.]]\n",
      "<PIL.Image.Image image mode=RGB size=227x223 at 0x16D37830FA0>\n",
      "[[1.]]\n",
      "<PIL.Image.Image image mode=RGB size=227x223 at 0x16D37C48670>\n",
      "[[1.]]\n",
      "<PIL.Image.Image image mode=RGB size=227x223 at 0x16D36F7E6D0>\n",
      "[[1.]]\n",
      "<PIL.Image.Image image mode=RGB size=227x223 at 0x16D37169460>\n",
      "[[1.]]\n",
      "<PIL.Image.Image image mode=RGB size=227x223 at 0x16D36D17B50>\n",
      "[[1.]]\n",
      "<PIL.Image.Image image mode=RGB size=227x223 at 0x16D36F36BB0>\n",
      "[[1.]]\n",
      "<PIL.Image.Image image mode=RGB size=227x223 at 0x16D37B534C0>\n",
      "[[1.]]\n",
      "<PIL.Image.Image image mode=RGB size=227x223 at 0x16D360F19D0>\n",
      "[[1.]]\n",
      "<PIL.Image.Image image mode=RGB size=227x223 at 0x16D360F19D0>\n",
      "[[1.]]\n",
      "<PIL.Image.Image image mode=RGB size=227x223 at 0x16D2FC9C250>\n",
      "[[1.]]\n",
      "<PIL.Image.Image image mode=RGB size=227x223 at 0x16D2FC9C250>\n",
      "[[1.]]\n",
      "<PIL.Image.Image image mode=RGB size=227x223 at 0x16D3D71FAC0>\n",
      "[[1.]]\n",
      "<PIL.Image.Image image mode=RGB size=227x223 at 0x16D37C3D2E0>\n",
      "[[1.]]\n",
      "<PIL.Image.Image image mode=RGB size=227x223 at 0x16D3D15D910>\n",
      "[[1.]]\n",
      "<PIL.Image.Image image mode=RGB size=227x223 at 0x16D37776130>\n",
      "[[1.]]\n",
      "<PIL.Image.Image image mode=RGB size=227x223 at 0x16D36F741C0>\n",
      "[[1.]]\n",
      "<PIL.Image.Image image mode=RGB size=227x223 at 0x16D377D63D0>\n",
      "[[1.]]\n",
      "<PIL.Image.Image image mode=RGB size=227x223 at 0x16D3776B370>\n",
      "[[1.]]\n",
      "<PIL.Image.Image image mode=RGB size=227x223 at 0x16D3D49C550>\n",
      "[[1.]]\n",
      "<PIL.Image.Image image mode=RGB size=227x223 at 0x16D3D30B700>\n",
      "[[1.]]\n"
     ]
    }
   ],
   "source": [
    "import shutil\n",
    "for i in files:\n",
    "    para_cell = prediction+i\n",
    "    my_image = image.load_img(para_cell,target_size=image_shape)\n",
    "    print(my_image)\n",
    "    type(my_image)\n",
    "    my_image = image.img_to_array(my_image)\n",
    "    type(my_image)\n",
    "    my_image.shape\n",
    "    my_image = np.expand_dims(my_image, axis=0)\n",
    "    my_image.shape\n",
    "    res=model.predict(my_image)\n",
    "    print(res)\n",
    "    if res==0:\n",
    "        shutil.copy(prediction+i, result_path+'ball')\n",
    "    if res==1:\n",
    "        shutil.copy(prediction+i, result_path+'hockey')\n",
    "        "
   ]
  },
  {
   "cell_type": "code",
   "execution_count": null,
   "metadata": {},
   "outputs": [],
   "source": []
  },
  {
   "cell_type": "code",
   "execution_count": null,
   "metadata": {},
   "outputs": [],
   "source": []
  },
  {
   "cell_type": "code",
   "execution_count": null,
   "metadata": {},
   "outputs": [],
   "source": []
  },
  {
   "cell_type": "code",
   "execution_count": null,
   "metadata": {},
   "outputs": [],
   "source": []
  },
  {
   "cell_type": "code",
   "execution_count": 418,
   "metadata": {},
   "outputs": [
    {
     "name": "stdout",
     "output_type": "stream",
     "text": [
      "<PIL.Image.Image image mode=RGB size=227x223 at 0x20B932F27C8>\n",
      "[[1.]]\n"
     ]
    }
   ],
   "source": [
    "para_cell = prediction+\"hockey6.jpg\"\n",
    "my_image = image.load_img(para_cell,target_size=image_shape)\n",
    "print(my_image)\n",
    "type(my_image)\n",
    "my_image = image.img_to_array(my_image)\n",
    "type(my_image)\n",
    "my_image.shape\n",
    "my_image = np.expand_dims(my_image, axis=0)\n",
    "my_image.shape\n",
    "res=model.predict(my_image)\n",
    "print(res)"
   ]
  },
  {
   "cell_type": "code",
   "execution_count": null,
   "metadata": {},
   "outputs": [],
   "source": []
  },
  {
   "cell_type": "code",
   "execution_count": null,
   "metadata": {},
   "outputs": [],
   "source": []
  },
  {
   "cell_type": "code",
   "execution_count": null,
   "metadata": {},
   "outputs": [],
   "source": []
  },
  {
   "cell_type": "code",
   "execution_count": null,
   "metadata": {},
   "outputs": [],
   "source": []
  }
 ],
 "metadata": {
  "kernelspec": {
   "display_name": "Python 3",
   "language": "python",
   "name": "python3"
  },
  "language_info": {
   "codemirror_mode": {
    "name": "ipython",
    "version": 3
   },
   "file_extension": ".py",
   "mimetype": "text/x-python",
   "name": "python",
   "nbconvert_exporter": "python",
   "pygments_lexer": "ipython3",
   "version": "3.8.5"
  }
 },
 "nbformat": 4,
 "nbformat_minor": 2
}
